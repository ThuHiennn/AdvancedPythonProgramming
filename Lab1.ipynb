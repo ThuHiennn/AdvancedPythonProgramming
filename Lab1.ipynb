{
  "nbformat": 4,
  "nbformat_minor": 0,
  "metadata": {
    "colab": {
      "name": "Lab1.ipynb",
      "provenance": [],
      "authorship_tag": "ABX9TyOsXqSeDCXYVTaUTpZkc5xm",
      "include_colab_link": true
    },
    "kernelspec": {
      "name": "python3",
      "display_name": "Python 3"
    },
    "language_info": {
      "name": "python"
    }
  },
  "cells": [
    {
      "cell_type": "markdown",
      "metadata": {
        "id": "view-in-github",
        "colab_type": "text"
      },
      "source": [
        "<a href=\"https://colab.research.google.com/github/ThuHiennn/AdvancedPythonProgramming/blob/main/Lab1.ipynb\" target=\"_parent\"><img src=\"https://colab.research.google.com/assets/colab-badge.svg\" alt=\"Open In Colab\"/></a>"
      ]
    },
    {
      "cell_type": "markdown",
      "metadata": {
        "id": "0jm0L3y1fOlN"
      },
      "source": [
        "Chương 3"
      ]
    },
    {
      "cell_type": "markdown",
      "metadata": {
        "id": "IPlgLC91fRjh"
      },
      "source": [
        "Bài 1"
      ]
    },
    {
      "cell_type": "code",
      "metadata": {
        "colab": {
          "base_uri": "https://localhost:8080/"
        },
        "id": "ZgOGXRsmHA2C",
        "outputId": "9033a1cd-9310-459d-de86-9dbc92c1cfae"
      },
      "source": [
        "min(2,3,4)"
      ],
      "execution_count": 1,
      "outputs": [
        {
          "output_type": "execute_result",
          "data": {
            "text/plain": [
              "2"
            ]
          },
          "metadata": {},
          "execution_count": 1
        }
      ]
    },
    {
      "cell_type": "code",
      "metadata": {
        "colab": {
          "base_uri": "https://localhost:8080/"
        },
        "id": "xFgcWeZ1HPzX",
        "outputId": "9d94590a-5b77-4d77-f418-6e020df932f8"
      },
      "source": [
        "max(2,-3,4,7,-5)\n"
      ],
      "execution_count": 2,
      "outputs": [
        {
          "output_type": "execute_result",
          "data": {
            "text/plain": [
              "7"
            ]
          },
          "metadata": {},
          "execution_count": 2
        }
      ]
    },
    {
      "cell_type": "code",
      "metadata": {
        "colab": {
          "base_uri": "https://localhost:8080/"
        },
        "id": "jtA4avz8Povz",
        "outputId": "b6f63e9c-2304-4426-c741-a6803c3c265c"
      },
      "source": [
        "max(2,-3,min(4,7),-5)"
      ],
      "execution_count": 3,
      "outputs": [
        {
          "output_type": "execute_result",
          "data": {
            "text/plain": [
              "4"
            ]
          },
          "metadata": {},
          "execution_count": 3
        }
      ]
    },
    {
      "cell_type": "markdown",
      "metadata": {
        "id": "_Mq9FyEIfXf5"
      },
      "source": [
        "Bài 2"
      ]
    },
    {
      "cell_type": "code",
      "metadata": {
        "colab": {
          "base_uri": "https://localhost:8080/"
        },
        "id": "OFMr_93YQDyb",
        "outputId": "f150a1fa-d592-4a69-c09a-e8781fe5152e"
      },
      "source": [
        "min(max(3,4), abs(-5))"
      ],
      "execution_count": 4,
      "outputs": [
        {
          "output_type": "execute_result",
          "data": {
            "text/plain": [
              "4"
            ]
          },
          "metadata": {},
          "execution_count": 4
        }
      ]
    },
    {
      "cell_type": "code",
      "metadata": {
        "colab": {
          "base_uri": "https://localhost:8080/"
        },
        "id": "txUsfOL5QD8p",
        "outputId": "369aea7d-62cd-4503-a6ef-ec078225da3c"
      },
      "source": [
        "abs(min(4,6,max(2,8)))"
      ],
      "execution_count": 5,
      "outputs": [
        {
          "output_type": "execute_result",
          "data": {
            "text/plain": [
              "4"
            ]
          },
          "metadata": {},
          "execution_count": 5
        }
      ]
    },
    {
      "cell_type": "code",
      "metadata": {
        "colab": {
          "base_uri": "https://localhost:8080/"
        },
        "id": "gD1FGL0qQnxy",
        "outputId": "5db8a820-0d86-4fac-9ef5-589238678cc0"
      },
      "source": [
        "round(max(5.572, 3.258), abs(-2))"
      ],
      "execution_count": 6,
      "outputs": [
        {
          "output_type": "execute_result",
          "data": {
            "text/plain": [
              "5.57"
            ]
          },
          "metadata": {},
          "execution_count": 6
        }
      ]
    },
    {
      "cell_type": "markdown",
      "metadata": {
        "id": "DLuIuWwefZ9I"
      },
      "source": [
        "Bài 3"
      ]
    },
    {
      "cell_type": "code",
      "metadata": {
        "colab": {
          "base_uri": "https://localhost:8080/"
        },
        "id": "ZL7K7WWHTIuT",
        "outputId": "fb21a010-1001-4cdc-8fa8-3d4fee44ae3c"
      },
      "source": [
        "def triple(num):\n",
        "  return num * 3\n",
        "triple(3)"
      ],
      "execution_count": 13,
      "outputs": [
        {
          "output_type": "execute_result",
          "data": {
            "text/plain": [
              "9"
            ]
          },
          "metadata": {},
          "execution_count": 13
        }
      ]
    },
    {
      "cell_type": "markdown",
      "metadata": {
        "id": "FQluUZ6AfbuD"
      },
      "source": [
        "Bài 4"
      ]
    },
    {
      "cell_type": "code",
      "metadata": {
        "colab": {
          "base_uri": "https://localhost:8080/"
        },
        "id": "tBLJKu0nTtxI",
        "outputId": "5448ef24-d692-4d31-d5ac-924da15b7c51"
      },
      "source": [
        "def absolute_difference(num1,num2):\n",
        "  return abs(num1-num2)\n",
        "absolute_difference(3,7)"
      ],
      "execution_count": 14,
      "outputs": [
        {
          "output_type": "execute_result",
          "data": {
            "text/plain": [
              "4"
            ]
          },
          "metadata": {},
          "execution_count": 14
        }
      ]
    },
    {
      "cell_type": "code",
      "metadata": {
        "colab": {
          "base_uri": "https://localhost:8080/"
        },
        "id": "nGPEmcgzUWmo",
        "outputId": "abacc9c4-1ca3-42ee-837a-e0083a7384b9"
      },
      "source": [
        "def km_to_miles(km):\n",
        "  return km/1.6\n",
        "km_to_miles(5)"
      ],
      "execution_count": 21,
      "outputs": [
        {
          "output_type": "execute_result",
          "data": {
            "text/plain": [
              "3.125"
            ]
          },
          "metadata": {},
          "execution_count": 21
        }
      ]
    },
    {
      "cell_type": "code",
      "metadata": {
        "colab": {
          "base_uri": "https://localhost:8080/"
        },
        "id": "umHd895tVG3i",
        "outputId": "89dbca2c-c4d8-4da3-d23c-39f087d9527b"
      },
      "source": [
        "def average_grade(grade1, grade2, grade3):\n",
        "  return (grade1 + grade2 + grade3)/3\n",
        "average_grade(80,95,90)"
      ],
      "execution_count": 20,
      "outputs": [
        {
          "output_type": "execute_result",
          "data": {
            "text/plain": [
              "88.33333333333333"
            ]
          },
          "metadata": {},
          "execution_count": 20
        }
      ]
    },
    {
      "cell_type": "code",
      "metadata": {
        "colab": {
          "base_uri": "https://localhost:8080/"
        },
        "id": "RVwlXkpnVqre",
        "outputId": "6fd13725-3b0c-4ca2-d586-3799de6a3f94"
      },
      "source": [
        "def top_three_avg(grade1, grade2, grade3, grade4):\n",
        "  total = grade1 + grade2 + grade3 + grade4\n",
        "  top_three = total - min(grade1, grade2, grade3, grade4)\n",
        "  return top_three / 3\n",
        "  return max(average_grade(grade1, grade2, grade3),\n",
        "  average_grade(grade1, grade2, grade4),\n",
        "  average_grade(grade1, grade3, grade4),\n",
        "  average_grade(grade2, grade3, grade4))\n",
        "\n",
        "  return (grade1, grade2, grade3) / 3\n",
        "top_three_avg(50,60,70,80)\n"
      ],
      "execution_count": 19,
      "outputs": [
        {
          "output_type": "execute_result",
          "data": {
            "text/plain": [
              "70.0"
            ]
          },
          "metadata": {},
          "execution_count": 19
        }
      ]
    },
    {
      "cell_type": "code",
      "metadata": {
        "colab": {
          "base_uri": "https://localhost:8080/"
        },
        "id": "01LyVQNTXb2X",
        "outputId": "9bc474e8-dd92-4934-afa2-800a3684f614"
      },
      "source": [
        "def weeks_elapsed(day1, day2):\n",
        "  return abs(int((day1-day2)/7))\n",
        "weeks_elapsed(3,20)  "
      ],
      "execution_count": 29,
      "outputs": [
        {
          "output_type": "execute_result",
          "data": {
            "text/plain": [
              "2"
            ]
          },
          "metadata": {},
          "execution_count": 29
        }
      ]
    },
    {
      "cell_type": "code",
      "metadata": {
        "colab": {
          "base_uri": "https://localhost:8080/"
        },
        "id": "ASBMVcm_bEBD",
        "outputId": "5cd33cb8-da25-4168-ef4d-c4bbc2981ef7"
      },
      "source": [
        "weeks_elapsed(20,3)"
      ],
      "execution_count": 30,
      "outputs": [
        {
          "output_type": "execute_result",
          "data": {
            "text/plain": [
              "2"
            ]
          },
          "metadata": {},
          "execution_count": 30
        }
      ]
    },
    {
      "cell_type": "code",
      "metadata": {
        "colab": {
          "base_uri": "https://localhost:8080/"
        },
        "id": "K2fg0lTXbUz7",
        "outputId": "66889707-014b-45da-c3db-3b981a103943"
      },
      "source": [
        "weeks_elapsed(8,5)"
      ],
      "execution_count": 32,
      "outputs": [
        {
          "output_type": "execute_result",
          "data": {
            "text/plain": [
              "0"
            ]
          },
          "metadata": {},
          "execution_count": 32
        }
      ]
    },
    {
      "cell_type": "code",
      "metadata": {
        "colab": {
          "base_uri": "https://localhost:8080/"
        },
        "id": "jSOsAfIqbTwe",
        "outputId": "169914be-1208-4919-bbed-b1c2a57d489f"
      },
      "source": [
        "weeks_elapsed(40,61)"
      ],
      "execution_count": 33,
      "outputs": [
        {
          "output_type": "execute_result",
          "data": {
            "text/plain": [
              "3"
            ]
          },
          "metadata": {},
          "execution_count": 33
        }
      ]
    },
    {
      "cell_type": "code",
      "metadata": {
        "colab": {
          "base_uri": "https://localhost:8080/"
        },
        "id": "kANy-3wmad3I",
        "outputId": "c48c77a1-204c-42fd-e03d-88b7d94f1f25"
      },
      "source": [
        "def square(num):\n",
        "  return num*num\n",
        "square(3)"
      ],
      "execution_count": 35,
      "outputs": [
        {
          "output_type": "execute_result",
          "data": {
            "text/plain": [
              "9"
            ]
          },
          "metadata": {},
          "execution_count": 35
        }
      ]
    },
    {
      "cell_type": "code",
      "metadata": {
        "id": "Ft_IuPuRbrpU"
      },
      "source": [
        ""
      ],
      "execution_count": null,
      "outputs": []
    }
  ]
}