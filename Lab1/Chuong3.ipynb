{
  "nbformat": 4,
  "nbformat_minor": 0,
  "metadata": {
    "colab": {
      "name": "Lab1.ipynb",
      "provenance": [],
      "authorship_tag": "ABX9TyPGYfUjNrCm5UVbW0/sKaNo",
      "include_colab_link": true
    },
    "kernelspec": {
      "name": "python3",
      "display_name": "Python 3"
    },
    "language_info": {
      "name": "python"
    }
  },
  "cells": [
    {
      "cell_type": "markdown",
      "metadata": {
        "id": "view-in-github",
        "colab_type": "text"
      },
      "source": [
        "<a href=\"https://colab.research.google.com/github/ThuHiennn/AdvancedPythonProgramming/blob/main/Lab1/Chuong3.ipynb\" target=\"_parent\"><img src=\"https://colab.research.google.com/assets/colab-badge.svg\" alt=\"Open In Colab\"/></a>"
      ]
    },
    {
      "cell_type": "markdown",
      "metadata": {
        "id": "0jm0L3y1fOlN"
      },
      "source": [
        "CHƯƠNG 3"
      ]
    },
    {
      "cell_type": "markdown",
      "metadata": {
        "id": "IPlgLC91fRjh"
      },
      "source": [
        "Bài 1 . Two of Python’s built-in functions are min and max. In the Python shell,\n",
        "execute the following function calls:"
      ]
    },
    {
      "cell_type": "code",
      "metadata": {
        "colab": {
          "base_uri": "https://localhost:8080/"
        },
        "id": "ZgOGXRsmHA2C",
        "outputId": "9033a1cd-9310-459d-de86-9dbc92c1cfae"
      },
      "source": [
        "min(2,3,4)"
      ],
      "execution_count": null,
      "outputs": [
        {
          "output_type": "execute_result",
          "data": {
            "text/plain": [
              "2"
            ]
          },
          "metadata": {},
          "execution_count": 1
        }
      ]
    },
    {
      "cell_type": "code",
      "metadata": {
        "colab": {
          "base_uri": "https://localhost:8080/"
        },
        "id": "xFgcWeZ1HPzX",
        "outputId": "9d94590a-5b77-4d77-f418-6e020df932f8"
      },
      "source": [
        "max(2,-3,4,7,-5)\n"
      ],
      "execution_count": null,
      "outputs": [
        {
          "output_type": "execute_result",
          "data": {
            "text/plain": [
              "7"
            ]
          },
          "metadata": {},
          "execution_count": 2
        }
      ]
    },
    {
      "cell_type": "code",
      "metadata": {
        "colab": {
          "base_uri": "https://localhost:8080/"
        },
        "id": "jtA4avz8Povz",
        "outputId": "b6f63e9c-2304-4426-c741-a6803c3c265c"
      },
      "source": [
        "max(2,-3,min(4,7),-5)"
      ],
      "execution_count": null,
      "outputs": [
        {
          "output_type": "execute_result",
          "data": {
            "text/plain": [
              "4"
            ]
          },
          "metadata": {},
          "execution_count": 3
        }
      ]
    },
    {
      "cell_type": "markdown",
      "metadata": {
        "id": "_Mq9FyEIfXf5"
      },
      "source": [
        "Bài 2. For the following function calls, in what order are the subexpressions\n",
        "evaluated?"
      ]
    },
    {
      "cell_type": "code",
      "metadata": {
        "colab": {
          "base_uri": "https://localhost:8080/"
        },
        "id": "OFMr_93YQDyb",
        "outputId": "f150a1fa-d592-4a69-c09a-e8781fe5152e"
      },
      "source": [
        "min(max(3,4), abs(-5))"
      ],
      "execution_count": null,
      "outputs": [
        {
          "output_type": "execute_result",
          "data": {
            "text/plain": [
              "4"
            ]
          },
          "metadata": {},
          "execution_count": 4
        }
      ]
    },
    {
      "cell_type": "code",
      "metadata": {
        "colab": {
          "base_uri": "https://localhost:8080/"
        },
        "id": "txUsfOL5QD8p",
        "outputId": "369aea7d-62cd-4503-a6ef-ec078225da3c"
      },
      "source": [
        "abs(min(4,6,max(2,8)))"
      ],
      "execution_count": null,
      "outputs": [
        {
          "output_type": "execute_result",
          "data": {
            "text/plain": [
              "4"
            ]
          },
          "metadata": {},
          "execution_count": 5
        }
      ]
    },
    {
      "cell_type": "code",
      "metadata": {
        "colab": {
          "base_uri": "https://localhost:8080/"
        },
        "id": "gD1FGL0qQnxy",
        "outputId": "5db8a820-0d86-4fac-9ef5-589238678cc0"
      },
      "source": [
        "round(max(5.572, 3.258), abs(-2))"
      ],
      "execution_count": null,
      "outputs": [
        {
          "output_type": "execute_result",
          "data": {
            "text/plain": [
              "5.57"
            ]
          },
          "metadata": {},
          "execution_count": 6
        }
      ]
    },
    {
      "cell_type": "markdown",
      "metadata": {
        "id": "DLuIuWwefZ9I"
      },
      "source": [
        "Bài 3. Following the function design recipe, define a function that has one\n",
        "parameter, a number, and returns that number tripled"
      ]
    },
    {
      "cell_type": "code",
      "metadata": {
        "colab": {
          "base_uri": "https://localhost:8080/"
        },
        "id": "ZL7K7WWHTIuT",
        "outputId": "fb21a010-1001-4cdc-8fa8-3d4fee44ae3c"
      },
      "source": [
        "def triple(num):\n",
        "  return num * 3\n",
        "triple(3)"
      ],
      "execution_count": null,
      "outputs": [
        {
          "output_type": "execute_result",
          "data": {
            "text/plain": [
              "9"
            ]
          },
          "metadata": {},
          "execution_count": 13
        }
      ]
    },
    {
      "cell_type": "markdown",
      "metadata": {
        "id": "FQluUZ6AfbuD"
      },
      "source": [
        "Bài 4. Following the function design recipe, define a function that has two\n",
        "parameters, both of which are numbers, and returns the absolute value\n",
        "of the difference of the two. Hint: Call built-in function abs."
      ]
    },
    {
      "cell_type": "code",
      "metadata": {
        "colab": {
          "base_uri": "https://localhost:8080/"
        },
        "id": "tBLJKu0nTtxI",
        "outputId": "5448ef24-d692-4d31-d5ac-924da15b7c51"
      },
      "source": [
        "def absolute_difference(num1,num2):\n",
        "  return abs(num1-num2)\n",
        "absolute_difference(3,7)"
      ],
      "execution_count": null,
      "outputs": [
        {
          "output_type": "execute_result",
          "data": {
            "text/plain": [
              "4"
            ]
          },
          "metadata": {},
          "execution_count": 14
        }
      ]
    },
    {
      "cell_type": "markdown",
      "metadata": {
        "id": "boKDROaySuKz"
      },
      "source": [
        "Bài 5. Following the function design recipe, define a function that has one\n",
        "parameter, a distance in kilometers, and returns the distance in miles.\n",
        "(There are 1.6 kilometers per mile.)"
      ]
    },
    {
      "cell_type": "code",
      "metadata": {
        "colab": {
          "base_uri": "https://localhost:8080/"
        },
        "id": "nGPEmcgzUWmo",
        "outputId": "abacc9c4-1ca3-42ee-837a-e0083a7384b9"
      },
      "source": [
        "def km_to_miles(km):\n",
        "  return km/1.6\n",
        "km_to_miles(5)"
      ],
      "execution_count": null,
      "outputs": [
        {
          "output_type": "execute_result",
          "data": {
            "text/plain": [
              "3.125"
            ]
          },
          "metadata": {},
          "execution_count": 21
        }
      ]
    },
    {
      "cell_type": "markdown",
      "metadata": {
        "id": "OSsBCcf0XVAF"
      },
      "source": [
        "Bài 6. Following the function design recipe, define a function that has three\n",
        "parameters, grades between 0 and 100 inclusive, and returns the average\n",
        "of those grades.\n"
      ]
    },
    {
      "cell_type": "code",
      "metadata": {
        "colab": {
          "base_uri": "https://localhost:8080/"
        },
        "id": "umHd895tVG3i",
        "outputId": "89dbca2c-c4d8-4da3-d23c-39f087d9527b"
      },
      "source": [
        "def average_grade(grade1, grade2, grade3):\n",
        "  return (grade1 + grade2 + grade3)/3\n",
        "average_grade(80,95,90)"
      ],
      "execution_count": null,
      "outputs": [
        {
          "output_type": "execute_result",
          "data": {
            "text/plain": [
              "88.33333333333333"
            ]
          },
          "metadata": {},
          "execution_count": 20
        }
      ]
    },
    {
      "cell_type": "markdown",
      "metadata": {
        "id": "zT9eLPv6Xapk"
      },
      "source": [
        "Bài 7. Following the function design recipe, define a function that has four\n",
        "parameters, all of them grades between 0 and 100 inclusive, and returns\n",
        "the average of the best 3 of those grades. Hint: Call the function that you\n",
        "defined in the previous exercise."
      ]
    },
    {
      "cell_type": "code",
      "metadata": {
        "colab": {
          "base_uri": "https://localhost:8080/"
        },
        "id": "RVwlXkpnVqre",
        "outputId": "6fd13725-3b0c-4ca2-d586-3799de6a3f94"
      },
      "source": [
        "def top_three_avg(grade1, grade2, grade3, grade4):\n",
        "  total = grade1 + grade2 + grade3 + grade4\n",
        "  top_three = total - min(grade1, grade2, grade3, grade4)\n",
        "  return top_three / 3\n",
        "  return max(average_grade(grade1, grade2, grade3),\n",
        "  average_grade(grade1, grade2, grade4),\n",
        "  average_grade(grade1, grade3, grade4),\n",
        "  average_grade(grade2, grade3, grade4))\n",
        "\n",
        "  return (grade1, grade2, grade3) / 3\n",
        "top_three_avg(50,60,70,80)\n"
      ],
      "execution_count": null,
      "outputs": [
        {
          "output_type": "execute_result",
          "data": {
            "text/plain": [
              "70.0"
            ]
          },
          "metadata": {},
          "execution_count": 19
        }
      ]
    },
    {
      "cell_type": "markdown",
      "metadata": {
        "id": "ZnQz4BBGXrBO"
      },
      "source": [
        "Bài 8. Complete the examples in the docstring and then write the body of the\n",
        "following function:"
      ]
    },
    {
      "cell_type": "code",
      "metadata": {
        "colab": {
          "base_uri": "https://localhost:8080/"
        },
        "id": "01LyVQNTXb2X",
        "outputId": "9bc474e8-dd92-4934-afa2-800a3684f614"
      },
      "source": [
        "def weeks_elapsed(day1, day2):\n",
        "  return abs(int((day1-day2)/7))\n",
        "weeks_elapsed(3,20)  "
      ],
      "execution_count": null,
      "outputs": [
        {
          "output_type": "execute_result",
          "data": {
            "text/plain": [
              "2"
            ]
          },
          "metadata": {},
          "execution_count": 29
        }
      ]
    },
    {
      "cell_type": "code",
      "metadata": {
        "colab": {
          "base_uri": "https://localhost:8080/"
        },
        "id": "ASBMVcm_bEBD",
        "outputId": "5cd33cb8-da25-4168-ef4d-c4bbc2981ef7"
      },
      "source": [
        "weeks_elapsed(20,3)"
      ],
      "execution_count": null,
      "outputs": [
        {
          "output_type": "execute_result",
          "data": {
            "text/plain": [
              "2"
            ]
          },
          "metadata": {},
          "execution_count": 30
        }
      ]
    },
    {
      "cell_type": "code",
      "metadata": {
        "colab": {
          "base_uri": "https://localhost:8080/"
        },
        "id": "K2fg0lTXbUz7",
        "outputId": "66889707-014b-45da-c3db-3b981a103943"
      },
      "source": [
        "weeks_elapsed(8,5)"
      ],
      "execution_count": null,
      "outputs": [
        {
          "output_type": "execute_result",
          "data": {
            "text/plain": [
              "0"
            ]
          },
          "metadata": {},
          "execution_count": 32
        }
      ]
    },
    {
      "cell_type": "code",
      "metadata": {
        "colab": {
          "base_uri": "https://localhost:8080/"
        },
        "id": "jSOsAfIqbTwe",
        "outputId": "169914be-1208-4919-bbed-b1c2a57d489f"
      },
      "source": [
        "weeks_elapsed(40,61)"
      ],
      "execution_count": null,
      "outputs": [
        {
          "output_type": "execute_result",
          "data": {
            "text/plain": [
              "3"
            ]
          },
          "metadata": {},
          "execution_count": 33
        }
      ]
    },
    {
      "cell_type": "markdown",
      "metadata": {
        "id": "HbJHI7KQXvRd"
      },
      "source": [
        "Bài 9. In the following table, fill in the Example column by writing square, num,\n",
        "square(3), and 3 next to the appropriate description."
      ]
    },
    {
      "cell_type": "code",
      "metadata": {
        "colab": {
          "base_uri": "https://localhost:8080/"
        },
        "id": "kANy-3wmad3I",
        "outputId": "c48c77a1-204c-42fd-e03d-88b7d94f1f25"
      },
      "source": [
        "def square(num):\n",
        "  return num*num\n",
        "square(3)"
      ],
      "execution_count": null,
      "outputs": [
        {
          "output_type": "execute_result",
          "data": {
            "text/plain": [
              "9"
            ]
          },
          "metadata": {},
          "execution_count": 35
        }
      ]
    },
    {
      "cell_type": "markdown",
      "metadata": {
        "id": "_flw-pFog6G1"
      },
      "source": [
        "----------------------------------------"
      ]
    },
    {
      "cell_type": "markdown",
      "metadata": {
        "id": "02DZQkngg71J"
      },
      "source": [
        "CHƯƠNG 6"
      ]
    },
    {
      "cell_type": "markdown",
      "metadata": {
        "id": "dx0gC8y-q-nq"
      },
      "source": [
        "Bài 1"
      ]
    },
    {
      "cell_type": "markdown",
      "metadata": {
        "id": "QLZKOR1ThanK"
      },
      "source": [
        "1. Import module math, and use its functions to complete the following\n",
        "exercises. (You can call dir(math) to get a listing of the items in math.)"
      ]
    },
    {
      "cell_type": "markdown",
      "metadata": {
        "id": "Rp-UXw_fh13j"
      },
      "source": [
        "a. Write an expression that produces the floor of -2.8."
      ]
    },
    {
      "cell_type": "code",
      "metadata": {
        "colab": {
          "base_uri": "https://localhost:8080/"
        },
        "id": "cIxCPKkGg8Ia",
        "outputId": "a5a8ccb9-35b2-4922-8b7e-a7093864c1fb"
      },
      "source": [
        "import math\n",
        "print(math.floor(-2.8))"
      ],
      "execution_count": 5,
      "outputs": [
        {
          "output_type": "stream",
          "name": "stdout",
          "text": [
            "-3\n"
          ]
        }
      ]
    },
    {
      "cell_type": "markdown",
      "metadata": {
        "id": "UoNPmrm2h30r"
      },
      "source": [
        "b. Write an expression that rounds the value of -4.3 and then produces\n",
        "the absolute value of that result"
      ]
    },
    {
      "cell_type": "code",
      "metadata": {
        "colab": {
          "base_uri": "https://localhost:8080/"
        },
        "id": "sqnrAQVohRGD",
        "outputId": "28f0159f-4fbe-41ca-b645-eb9d227d65ef"
      },
      "source": [
        "print(abs(round(-4.3)))"
      ],
      "execution_count": 6,
      "outputs": [
        {
          "output_type": "stream",
          "name": "stdout",
          "text": [
            "4\n"
          ]
        }
      ]
    },
    {
      "cell_type": "markdown",
      "metadata": {
        "id": "_U7nDnvdh69D"
      },
      "source": [
        "c. Write an expression that produces the ceiling of the sine of 34.5"
      ]
    },
    {
      "cell_type": "code",
      "metadata": {
        "colab": {
          "base_uri": "https://localhost:8080/"
        },
        "id": "9p9Bwfq5hZkr",
        "outputId": "a6c93c9d-f973-4dbf-9120-d08cc2bcb799"
      },
      "source": [
        "print(math.ceil(math.sin(34.5)))"
      ],
      "execution_count": 7,
      "outputs": [
        {
          "output_type": "stream",
          "name": "stdout",
          "text": [
            "1\n"
          ]
        }
      ]
    },
    {
      "cell_type": "markdown",
      "metadata": {
        "id": "0AmAAj-VrA9H"
      },
      "source": [
        "Bài 2\n"
      ]
    },
    {
      "cell_type": "markdown",
      "metadata": {
        "id": "p76KeG7-iJi7"
      },
      "source": [
        "2. In the following exercises, you will work with Python’s calendar module:"
      ]
    },
    {
      "cell_type": "markdown",
      "metadata": {
        "id": "2FQ-kPVciOu4"
      },
      "source": [
        "a. Visit the Python documentation website at http://docs.python.org/release/\n",
        "3.6.0/py-modindex.html, and look at the documentation on module calendar\n",
        ".\n"
      ]
    },
    {
      "cell_type": "markdown",
      "metadata": {
        "id": "Uad9_mIji5yb"
      },
      "source": [
        " b. Import module calendar."
      ]
    },
    {
      "cell_type": "code",
      "metadata": {
        "id": "VlsQ4spxiUFv"
      },
      "source": [
        "import calendar\n",
        "\n"
      ],
      "execution_count": 10,
      "outputs": []
    },
    {
      "cell_type": "markdown",
      "metadata": {
        "id": "L0VTTVAyjFfK"
      },
      "source": [
        "c. Using function help, read the description of function isleap."
      ]
    },
    {
      "cell_type": "code",
      "metadata": {
        "colab": {
          "base_uri": "https://localhost:8080/"
        },
        "id": "ywCsbP57i8r8",
        "outputId": "790bd115-57e1-4d77-94f7-b9af8360e26b"
      },
      "source": [
        "help(calendar.isleap)"
      ],
      "execution_count": 11,
      "outputs": [
        {
          "output_type": "stream",
          "name": "stdout",
          "text": [
            "Help on function isleap in module calendar:\n",
            "\n",
            "isleap(year)\n",
            "    Return True for leap years, False for non-leap years.\n",
            "\n"
          ]
        }
      ]
    },
    {
      "cell_type": "markdown",
      "metadata": {
        "id": "NfS2hiiQirqZ"
      },
      "source": [
        "d. Use isleap to determine the next leap year."
      ]
    },
    {
      "cell_type": "code",
      "metadata": {
        "colab": {
          "base_uri": "https://localhost:8080/"
        },
        "id": "ziHLGpGbi8V6",
        "outputId": "2ceb9c42-f606-4560-e542-c8146afa87f3"
      },
      "source": [
        "calendar.isleap(2021)"
      ],
      "execution_count": 12,
      "outputs": [
        {
          "output_type": "execute_result",
          "data": {
            "text/plain": [
              "True"
            ]
          },
          "metadata": {},
          "execution_count": 12
        }
      ]
    },
    {
      "cell_type": "markdown",
      "metadata": {
        "id": "_W-V73FUqIdS"
      },
      "source": [
        "e. Use dir to get a list of what calendar contains"
      ]
    },
    {
      "cell_type": "code",
      "metadata": {
        "colab": {
          "base_uri": "https://localhost:8080/"
        },
        "id": "Ne9uOsFbiusV",
        "outputId": "0e4b2481-0ce9-4b5f-caae-86dadd638881"
      },
      "source": [
        "dir(calendar)"
      ],
      "execution_count": 20,
      "outputs": [
        {
          "output_type": "execute_result",
          "data": {
            "text/plain": [
              "['Calendar',\n",
              " 'EPOCH',\n",
              " 'FRIDAY',\n",
              " 'February',\n",
              " 'HTMLCalendar',\n",
              " 'IllegalMonthError',\n",
              " 'IllegalWeekdayError',\n",
              " 'January',\n",
              " 'LocaleHTMLCalendar',\n",
              " 'LocaleTextCalendar',\n",
              " 'MONDAY',\n",
              " 'SATURDAY',\n",
              " 'SUNDAY',\n",
              " 'THURSDAY',\n",
              " 'TUESDAY',\n",
              " 'TextCalendar',\n",
              " 'WEDNESDAY',\n",
              " '_EPOCH_ORD',\n",
              " '__all__',\n",
              " '__builtins__',\n",
              " '__cached__',\n",
              " '__doc__',\n",
              " '__file__',\n",
              " '__loader__',\n",
              " '__name__',\n",
              " '__package__',\n",
              " '__spec__',\n",
              " '_colwidth',\n",
              " '_locale',\n",
              " '_localized_day',\n",
              " '_localized_month',\n",
              " '_spacing',\n",
              " 'c',\n",
              " 'calendar',\n",
              " 'datetime',\n",
              " 'day_abbr',\n",
              " 'day_name',\n",
              " 'different_locale',\n",
              " 'error',\n",
              " 'firstweekday',\n",
              " 'format',\n",
              " 'formatstring',\n",
              " 'isleap',\n",
              " 'leapdays',\n",
              " 'main',\n",
              " 'mdays',\n",
              " 'month',\n",
              " 'month_abbr',\n",
              " 'month_name',\n",
              " 'monthcalendar',\n",
              " 'monthlen',\n",
              " 'monthrange',\n",
              " 'nextmonth',\n",
              " 'prcal',\n",
              " 'prevmonth',\n",
              " 'prmonth',\n",
              " 'prweek',\n",
              " 'repeat',\n",
              " 'setfirstweekday',\n",
              " 'sys',\n",
              " 'timegm',\n",
              " 'week',\n",
              " 'weekday',\n",
              " 'weekheader']"
            ]
          },
          "metadata": {},
          "execution_count": 20
        }
      ]
    },
    {
      "cell_type": "markdown",
      "metadata": {
        "id": "UZbTy_NIqrxm"
      },
      "source": [
        "f. Find and use a function in module calendar to determine how many\n",
        "leap years there will be between the years 2000 and 2050, inclusive"
      ]
    },
    {
      "cell_type": "code",
      "metadata": {
        "colab": {
          "base_uri": "https://localhost:8080/"
        },
        "id": "vczGrwH0qLrC",
        "outputId": "7db8bd25-8dc3-4b13-bd42-ceeab2466f9e"
      },
      "source": [
        "calendar.leapdays(2000, 2050)"
      ],
      "execution_count": 19,
      "outputs": [
        {
          "output_type": "execute_result",
          "data": {
            "text/plain": [
              "13"
            ]
          },
          "metadata": {},
          "execution_count": 19
        }
      ]
    },
    {
      "cell_type": "markdown",
      "metadata": {
        "id": "zd6dr-X3qu55"
      },
      "source": [
        "g. Find and use a function in module calendar to determine which day of\n",
        "the week July 29, 2016, will be."
      ]
    },
    {
      "cell_type": "code",
      "metadata": {
        "colab": {
          "base_uri": "https://localhost:8080/"
        },
        "id": "rfxIhWa7qygO",
        "outputId": "6f6bf796-f288-4049-d157-66237feb1dd1"
      },
      "source": [
        "calendar.weekday(2016, 7,29)"
      ],
      "execution_count": 21,
      "outputs": [
        {
          "output_type": "execute_result",
          "data": {
            "text/plain": [
              "4"
            ]
          },
          "metadata": {},
          "execution_count": 21
        }
      ]
    },
    {
      "cell_type": "markdown",
      "metadata": {
        "id": "-EIQiFobqSUu"
      },
      "source": [
        "Bài 3"
      ]
    },
    {
      "cell_type": "markdown",
      "metadata": {
        "id": "ZigzbTP_rNGx"
      },
      "source": [
        "-------------------------------------------------------------------------------"
      ]
    },
    {
      "cell_type": "markdown",
      "metadata": {
        "id": "oF5LMhQdrQr_"
      },
      "source": [
        "CHƯƠNG 7"
      ]
    }
  ]
}