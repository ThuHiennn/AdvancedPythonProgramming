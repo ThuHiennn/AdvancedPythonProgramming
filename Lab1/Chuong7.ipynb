{
  "nbformat": 4,
  "nbformat_minor": 0,
  "metadata": {
    "colab": {
      "name": "Chuong7.ipynb",
      "provenance": [],
      "authorship_tag": "ABX9TyPQoLzZzGTpMoBGe59jSQvo",
      "include_colab_link": true
    },
    "kernelspec": {
      "name": "python3",
      "display_name": "Python 3"
    },
    "language_info": {
      "name": "python"
    }
  },
  "cells": [
    {
      "cell_type": "markdown",
      "metadata": {
        "id": "view-in-github",
        "colab_type": "text"
      },
      "source": [
        "<a href=\"https://colab.research.google.com/github/ThuHiennn/AdvancedPythonProgramming/blob/main/Lab1/Chuong7.ipynb\" target=\"_parent\"><img src=\"https://colab.research.google.com/assets/colab-badge.svg\" alt=\"Open In Colab\"/></a>"
      ]
    },
    {
      "cell_type": "code",
      "metadata": {
        "id": "Rf-DjWfvt9tq"
      },
      "source": [
        "CHƯƠNG 7"
      ],
      "execution_count": null,
      "outputs": []
    },
    {
      "cell_type": "markdown",
      "metadata": {
        "id": "ckWroyCZukhJ"
      },
      "source": [
        "1. In the Python shell, execute the following method calls:"
      ]
    },
    {
      "cell_type": "markdown",
      "metadata": {
        "id": "fVyREY3qupg4"
      },
      "source": [
        "a. 'hello'.upper()"
      ]
    },
    {
      "cell_type": "code",
      "metadata": {
        "colab": {
          "base_uri": "https://localhost:8080/",
          "height": 35
        },
        "id": "yqk8s8iuwBmw",
        "outputId": "f52d2c01-b9ce-4c53-8138-dc71f7b8dbd2"
      },
      "source": [
        "'hello'.upper()"
      ],
      "execution_count": 1,
      "outputs": [
        {
          "output_type": "execute_result",
          "data": {
            "application/vnd.google.colaboratory.intrinsic+json": {
              "type": "string"
            },
            "text/plain": [
              "'HELLO'"
            ]
          },
          "metadata": {},
          "execution_count": 1
        }
      ]
    },
    {
      "cell_type": "markdown",
      "metadata": {
        "id": "kd_S-owTupbh"
      },
      "source": [
        "b. 'Happy Birthday!'.lower()"
      ]
    },
    {
      "cell_type": "code",
      "metadata": {
        "colab": {
          "base_uri": "https://localhost:8080/",
          "height": 35
        },
        "id": "yihjURpCwPGK",
        "outputId": "a510415b-0b72-49b6-9842-de982716baf4"
      },
      "source": [
        "'Happy Birthday!'.lower()"
      ],
      "execution_count": 2,
      "outputs": [
        {
          "output_type": "execute_result",
          "data": {
            "application/vnd.google.colaboratory.intrinsic+json": {
              "type": "string"
            },
            "text/plain": [
              "'happy birthday!'"
            ]
          },
          "metadata": {},
          "execution_count": 2
        }
      ]
    },
    {
      "cell_type": "markdown",
      "metadata": {
        "id": "Oq716KdKupYg"
      },
      "source": [
        "c. 'WeeeEEEEeeeEEEEeee'.swapcase()"
      ]
    },
    {
      "cell_type": "code",
      "metadata": {
        "colab": {
          "base_uri": "https://localhost:8080/",
          "height": 35
        },
        "id": "KfTQ_IRHwT6S",
        "outputId": "6f5e98d6-a5ba-491a-a136-909bef8f928e"
      },
      "source": [
        "'WeeeEEEEeeeEEEEeee'.swapcase()"
      ],
      "execution_count": 3,
      "outputs": [
        {
          "output_type": "execute_result",
          "data": {
            "application/vnd.google.colaboratory.intrinsic+json": {
              "type": "string"
            },
            "text/plain": [
              "'wEEEeeeeEEEeeeeEEE'"
            ]
          },
          "metadata": {},
          "execution_count": 3
        }
      ]
    },
    {
      "cell_type": "markdown",
      "metadata": {
        "id": "4es8gaf7upVA"
      },
      "source": [
        "d. 'ABC123'.isupper()\n"
      ]
    },
    {
      "cell_type": "code",
      "metadata": {
        "colab": {
          "base_uri": "https://localhost:8080/"
        },
        "id": "0vuDpBwvwZbc",
        "outputId": "aada06ae-25ac-40de-c95d-1ff8d0349f60"
      },
      "source": [
        "'ABC123'.isupper()"
      ],
      "execution_count": 4,
      "outputs": [
        {
          "output_type": "execute_result",
          "data": {
            "text/plain": [
              "True"
            ]
          },
          "metadata": {},
          "execution_count": 4
        }
      ]
    },
    {
      "cell_type": "markdown",
      "metadata": {
        "id": "xpDvZln9upNy"
      },
      "source": [
        "e. 'aeiouAEIOU'.count('a')\n"
      ]
    },
    {
      "cell_type": "code",
      "metadata": {
        "colab": {
          "base_uri": "https://localhost:8080/"
        },
        "id": "tycNpUdMwd6Z",
        "outputId": "47058d85-7598-435f-f566-7833f3da4ce3"
      },
      "source": [
        "'aeiouAEIOU'.count('a')"
      ],
      "execution_count": 5,
      "outputs": [
        {
          "output_type": "execute_result",
          "data": {
            "text/plain": [
              "1"
            ]
          },
          "metadata": {},
          "execution_count": 5
        }
      ]
    },
    {
      "cell_type": "markdown",
      "metadata": {
        "id": "DMS_OUGQupBK"
      },
      "source": [
        "f. 'hello'.endswith('o')\n"
      ]
    },
    {
      "cell_type": "code",
      "metadata": {
        "colab": {
          "base_uri": "https://localhost:8080/"
        },
        "id": "6oYMTBPlwiVC",
        "outputId": "88d3f04e-7785-47b2-fe40-31339adec253"
      },
      "source": [
        "'hello'.endswith('o')"
      ],
      "execution_count": 6,
      "outputs": [
        {
          "output_type": "execute_result",
          "data": {
            "text/plain": [
              "True"
            ]
          },
          "metadata": {},
          "execution_count": 6
        }
      ]
    },
    {
      "cell_type": "markdown",
      "metadata": {
        "id": "ZG9525aUvFtI"
      },
      "source": [
        "g. 'hello'.startswith('H')\n"
      ]
    },
    {
      "cell_type": "code",
      "metadata": {
        "colab": {
          "base_uri": "https://localhost:8080/"
        },
        "id": "uhNs6RaPwnXp",
        "outputId": "03c902f7-54a5-4a75-b284-b1833053513f"
      },
      "source": [
        "'hello'.startswith('H')"
      ],
      "execution_count": 7,
      "outputs": [
        {
          "output_type": "execute_result",
          "data": {
            "text/plain": [
              "False"
            ]
          },
          "metadata": {},
          "execution_count": 7
        }
      ]
    },
    {
      "cell_type": "markdown",
      "metadata": {
        "id": "sJ0YvQg-vFqo"
      },
      "source": [
        "h. 'Hello {0}'.format('Python')\n"
      ]
    },
    {
      "cell_type": "code",
      "metadata": {
        "colab": {
          "base_uri": "https://localhost:8080/",
          "height": 35
        },
        "id": "ZXRoJl54wqeU",
        "outputId": "6cc40b5f-1914-4f04-b2a4-50cb70517881"
      },
      "source": [
        " 'Hello {0}'.format('Python')"
      ],
      "execution_count": 8,
      "outputs": [
        {
          "output_type": "execute_result",
          "data": {
            "application/vnd.google.colaboratory.intrinsic+json": {
              "type": "string"
            },
            "text/plain": [
              "'Hello Python'"
            ]
          },
          "metadata": {},
          "execution_count": 8
        }
      ]
    },
    {
      "cell_type": "markdown",
      "metadata": {
        "id": "YqqcB2ezvFn6"
      },
      "source": [
        "i. 'Hello {0}! Hello {1}!'.format('Python', 'World')"
      ]
    },
    {
      "cell_type": "code",
      "metadata": {
        "colab": {
          "base_uri": "https://localhost:8080/",
          "height": 35
        },
        "id": "WxhGs-yjwuG5",
        "outputId": "fadff580-7ada-40e9-870d-c74738d196fd"
      },
      "source": [
        "'Hello {0}! Hello {1}!'.format('Python', 'World')"
      ],
      "execution_count": 9,
      "outputs": [
        {
          "output_type": "execute_result",
          "data": {
            "application/vnd.google.colaboratory.intrinsic+json": {
              "type": "string"
            },
            "text/plain": [
              "'Hello Python! Hello World!'"
            ]
          },
          "metadata": {},
          "execution_count": 9
        }
      ]
    },
    {
      "cell_type": "markdown",
      "metadata": {
        "id": "oTlk7PL3vFkY"
      },
      "source": [
        "Bài 2. Using string method count, write an expression that produces the number\n",
        "of o’s in 'tomato'"
      ]
    },
    {
      "cell_type": "code",
      "metadata": {
        "colab": {
          "base_uri": "https://localhost:8080/"
        },
        "id": "0ExRYFRewx56",
        "outputId": "506aef1c-b6db-4686-b5d7-8b2e4db54df3"
      },
      "source": [
        "'tomato'.count('o')"
      ],
      "execution_count": 10,
      "outputs": [
        {
          "output_type": "execute_result",
          "data": {
            "text/plain": [
              "2"
            ]
          },
          "metadata": {},
          "execution_count": 10
        }
      ]
    },
    {
      "cell_type": "markdown",
      "metadata": {
        "id": "KwyWC-pzvMNI"
      },
      "source": [
        "Bài 3. Using string method find, write an expression that produces the index of\n",
        "the first occurrence of o in 'tomato'.\n"
      ]
    },
    {
      "cell_type": "code",
      "metadata": {
        "colab": {
          "base_uri": "https://localhost:8080/"
        },
        "id": "0lUn8Cy3xDzN",
        "outputId": "b4480b6b-c51b-4bba-8e67-d9e22d945ec6"
      },
      "source": [
        "'tomato'.find('o')"
      ],
      "execution_count": 11,
      "outputs": [
        {
          "output_type": "execute_result",
          "data": {
            "text/plain": [
              "1"
            ]
          },
          "metadata": {},
          "execution_count": 11
        }
      ]
    },
    {
      "cell_type": "markdown",
      "metadata": {
        "id": "cjTjGqbjvNRi"
      },
      "source": [
        "Bài 4. Using string method find, write a single expression that produces the index\n",
        "of the second occurrence of o in 'tomato'. Hint: Call find twice.\n"
      ]
    },
    {
      "cell_type": "code",
      "metadata": {
        "colab": {
          "base_uri": "https://localhost:8080/"
        },
        "id": "qtuWRZvQxZoK",
        "outputId": "d993fd66-8f43-4784-9160-18b77c2ef00c"
      },
      "source": [
        "'tomato'.find('o', 'tomato'.find('o')+1)"
      ],
      "execution_count": 12,
      "outputs": [
        {
          "output_type": "execute_result",
          "data": {
            "text/plain": [
              "5"
            ]
          },
          "metadata": {},
          "execution_count": 12
        }
      ]
    },
    {
      "cell_type": "markdown",
      "metadata": {
        "id": "0TiZvwaMvNGA"
      },
      "source": [
        "Bài 5. Using your expression from the previous exercise, find the second o in\n",
        "'avocado'. If you don’t get the result you expect, revise the expression and\n",
        "try again.\n"
      ]
    },
    {
      "cell_type": "code",
      "metadata": {
        "colab": {
          "base_uri": "https://localhost:8080/"
        },
        "id": "ciWcu-Y1xdxp",
        "outputId": "881f596b-11c2-4c33-9692-8b5f3d108825"
      },
      "source": [
        "'avocado'.find('o', 'avocado'.find('o')+1)"
      ],
      "execution_count": 13,
      "outputs": [
        {
          "output_type": "execute_result",
          "data": {
            "text/plain": [
              "6"
            ]
          },
          "metadata": {},
          "execution_count": 13
        }
      ]
    },
    {
      "cell_type": "markdown",
      "metadata": {
        "id": "OaAF26bRvNAQ"
      },
      "source": [
        "Bài 6. Using string method replace, write an expression that produces a string\n",
        "based on 'runner' with the n’s replaced by b’s.\n"
      ]
    },
    {
      "cell_type": "code",
      "metadata": {
        "colab": {
          "base_uri": "https://localhost:8080/",
          "height": 35
        },
        "id": "mFsmsfm0xefa",
        "outputId": "6db895da-1934-40fe-f376-4a4bdeee0050"
      },
      "source": [
        "'runner'.replace('n','b')"
      ],
      "execution_count": 14,
      "outputs": [
        {
          "output_type": "execute_result",
          "data": {
            "application/vnd.google.colaboratory.intrinsic+json": {
              "type": "string"
            },
            "text/plain": [
              "'rubber'"
            ]
          },
          "metadata": {},
          "execution_count": 14
        }
      ]
    },
    {
      "cell_type": "markdown",
      "metadata": {
        "id": "YUnCoeehvM9h"
      },
      "source": [
        "Bài 7. Variable s refers to ' yes '. When a string method is called with s as its\n",
        "argument, the string 'yes' is produced. Which string method was called?\n"
      ]
    },
    {
      "cell_type": "code",
      "metadata": {
        "id": "Y_Z7TQYry8py"
      },
      "source": [
        "strip"
      ],
      "execution_count": null,
      "outputs": []
    },
    {
      "cell_type": "markdown",
      "metadata": {
        "id": "fvs79OgGvM6i"
      },
      "source": [
        "Bài 8. Variable fruit refers to 'pineapple'. For the following function calls, in what\n",
        "order are the subexpressions evaluated?\n"
      ]
    },
    {
      "cell_type": "markdown",
      "metadata": {
        "id": "R2KkY9dovMy5"
      },
      "source": [
        "a. fruit.find('p', fruit.count('p'))\n"
      ]
    },
    {
      "cell_type": "code",
      "metadata": {
        "colab": {
          "base_uri": "https://localhost:8080/"
        },
        "id": "aNfQv4XKxfni",
        "outputId": "1f8598fb-0f87-4203-ebf7-b04e8b92c936"
      },
      "source": [
        "fruit = 'pineapple'\n",
        "print(fruit.find('p', count))"
      ],
      "execution_count": 19,
      "outputs": [
        {
          "output_type": "stream",
          "name": "stdout",
          "text": [
            "5\n"
          ]
        }
      ]
    },
    {
      "cell_type": "markdown",
      "metadata": {
        "id": "YfPLqBY_vMrh"
      },
      "source": [
        "b. fruit.count(fruit.upper().swapcase())\n"
      ]
    },
    {
      "cell_type": "code",
      "metadata": {
        "colab": {
          "base_uri": "https://localhost:8080/"
        },
        "id": "vuaiQsRMxhK4",
        "outputId": "14468325-68b6-4242-ef30-be7b1df8e72a"
      },
      "source": [
        "fruit.count(fruit.upper().swapcase())"
      ],
      "execution_count": 20,
      "outputs": [
        {
          "output_type": "execute_result",
          "data": {
            "text/plain": [
              "1"
            ]
          },
          "metadata": {},
          "execution_count": 20
        }
      ]
    },
    {
      "cell_type": "markdown",
      "metadata": {
        "id": "EGhDZZkXvMkR"
      },
      "source": [
        "c. fruit.replace(fruit.swapcase(), fruit.lower())\n"
      ]
    },
    {
      "cell_type": "code",
      "metadata": {
        "colab": {
          "base_uri": "https://localhost:8080/",
          "height": 35
        },
        "id": "dWlH26slxh3b",
        "outputId": "262f9e91-d920-4ebb-c35e-514b438db328"
      },
      "source": [
        "fruit.replace(fruit.swapcase(), fruit.lower())"
      ],
      "execution_count": 21,
      "outputs": [
        {
          "output_type": "execute_result",
          "data": {
            "application/vnd.google.colaboratory.intrinsic+json": {
              "type": "string"
            },
            "text/plain": [
              "'pineapple'"
            ]
          },
          "metadata": {},
          "execution_count": 21
        }
      ]
    },
    {
      "cell_type": "markdown",
      "metadata": {
        "id": "dEPNWjeXvMR6"
      },
      "source": [
        "Bài 9. Variable season refers to 'summer'. Using string method format and variable\n",
        "season, write an expression that produces 'I love summer!’\n"
      ]
    },
    {
      "cell_type": "code",
      "metadata": {
        "colab": {
          "base_uri": "https://localhost:8080/",
          "height": 35
        },
        "id": "64Z7kq9Lxifx",
        "outputId": "6761b4bc-1f89-49f8-b387-a7972e06b04c"
      },
      "source": [
        "season = 'summer'\n",
        "'I love {0}!'.format(season)"
      ],
      "execution_count": 22,
      "outputs": [
        {
          "output_type": "execute_result",
          "data": {
            "application/vnd.google.colaboratory.intrinsic+json": {
              "type": "string"
            },
            "text/plain": [
              "'I love summer!'"
            ]
          },
          "metadata": {},
          "execution_count": 22
        }
      ]
    },
    {
      "cell_type": "markdown",
      "metadata": {
        "id": "0miJP93WvFdR"
      },
      "source": [
        "Bài 10.Variables side1, side2, and side3 refer to 3, 4, and 5, respectively. Using\n",
        "string\n",
        "method format and those three variables, write an expression that produces\n",
        "'The sides have lengths 3, 4, and 5.'\n"
      ]
    },
    {
      "cell_type": "code",
      "metadata": {
        "colab": {
          "base_uri": "https://localhost:8080/",
          "height": 35
        },
        "id": "JM5KQ8eIxi-x",
        "outputId": "25fd52dd-44d1-4999-ab1b-b0cc2e65e4ae"
      },
      "source": [
        "side1 = 3\n",
        "side2 = 4\n",
        "side3 = 5\n",
        "'The sides have lengths {0}, {1}, and {2}.'.format(side1, side2, side3)"
      ],
      "execution_count": 23,
      "outputs": [
        {
          "output_type": "execute_result",
          "data": {
            "application/vnd.google.colaboratory.intrinsic+json": {
              "type": "string"
            },
            "text/plain": [
              "'The sides have lengths 3, 4, and 5.'"
            ]
          },
          "metadata": {},
          "execution_count": 23
        }
      ]
    },
    {
      "cell_type": "markdown",
      "metadata": {
        "id": "SXWGJXfxvyip"
      },
      "source": [
        "Bài 11.Using string methods, write expressions that produce the following:\n"
      ]
    },
    {
      "cell_type": "markdown",
      "metadata": {
        "id": "ByLU5ICiv01Z"
      },
      "source": [
        "a. A copy of 'boolean' capitalized\n"
      ]
    },
    {
      "cell_type": "code",
      "metadata": {
        "colab": {
          "base_uri": "https://localhost:8080/",
          "height": 35
        },
        "id": "SYvr6USNxjwR",
        "outputId": "aedf9780-9d8d-4a89-e8d1-6a37a13eb59a"
      },
      "source": [
        "'boolean'.capitalize()"
      ],
      "execution_count": 25,
      "outputs": [
        {
          "output_type": "execute_result",
          "data": {
            "application/vnd.google.colaboratory.intrinsic+json": {
              "type": "string"
            },
            "text/plain": [
              "'Boolean'"
            ]
          },
          "metadata": {},
          "execution_count": 25
        }
      ]
    },
    {
      "cell_type": "markdown",
      "metadata": {
        "id": "ud-gsvDsv0sB"
      },
      "source": [
        "b. The first occurrence of '2' in 'CO2 H2O'\n"
      ]
    },
    {
      "cell_type": "code",
      "metadata": {
        "colab": {
          "base_uri": "https://localhost:8080/"
        },
        "id": "qGSHkXtMxkNz",
        "outputId": "7b18ed8f-8e90-4393-c0be-f48b19f9fc81"
      },
      "source": [
        "'CO2 H2O'.find('2')"
      ],
      "execution_count": 26,
      "outputs": [
        {
          "output_type": "execute_result",
          "data": {
            "text/plain": [
              "2"
            ]
          },
          "metadata": {},
          "execution_count": 26
        }
      ]
    },
    {
      "cell_type": "markdown",
      "metadata": {
        "id": "yybE2ln3v0iB"
      },
      "source": [
        "c. The second occurrence of '2' in 'CO2 H2O'\n"
      ]
    },
    {
      "cell_type": "code",
      "metadata": {
        "colab": {
          "base_uri": "https://localhost:8080/"
        },
        "id": "oMJWBV7cxkm5",
        "outputId": "bcb2af21-4136-44b1-f28d-3f9d8c60588d"
      },
      "source": [
        "'CO2 H2O'.find('2', 'CO2 H2O'.find('2') + 1)"
      ],
      "execution_count": 27,
      "outputs": [
        {
          "output_type": "execute_result",
          "data": {
            "text/plain": [
              "5"
            ]
          },
          "metadata": {},
          "execution_count": 27
        }
      ]
    },
    {
      "cell_type": "markdown",
      "metadata": {
        "id": "ys77YWdwv0Zw"
      },
      "source": [
        "d. True if and only if 'Boolean' begins lowercase\n"
      ]
    },
    {
      "cell_type": "code",
      "metadata": {
        "colab": {
          "base_uri": "https://localhost:8080/"
        },
        "id": "4aPEsxlTxlSi",
        "outputId": "3023d8fb-ac66-40c5-aec4-9d6c9c39752e"
      },
      "source": [
        "'Boolean'[0].islower()"
      ],
      "execution_count": 28,
      "outputs": [
        {
          "output_type": "execute_result",
          "data": {
            "text/plain": [
              "False"
            ]
          },
          "metadata": {},
          "execution_count": 28
        }
      ]
    },
    {
      "cell_type": "markdown",
      "metadata": {
        "id": "RQ3at6_-v0Sq"
      },
      "source": [
        "e. A copy of \"MoNDaY\" converted to lowercase and then capitalized\n"
      ]
    },
    {
      "cell_type": "code",
      "metadata": {
        "colab": {
          "base_uri": "https://localhost:8080/",
          "height": 35
        },
        "id": "Iz400m40xlu7",
        "outputId": "3cb8666d-b7b4-436b-ff51-448e60efb62f"
      },
      "source": [
        "'MoNDaY'.lower().capitalize()"
      ],
      "execution_count": 29,
      "outputs": [
        {
          "output_type": "execute_result",
          "data": {
            "application/vnd.google.colaboratory.intrinsic+json": {
              "type": "string"
            },
            "text/plain": [
              "'Monday'"
            ]
          },
          "metadata": {},
          "execution_count": 29
        }
      ]
    },
    {
      "cell_type": "markdown",
      "metadata": {
        "id": "Rdphblm9v9Wh"
      },
      "source": [
        "f. A copy of \" Monday\" with the leading whitespace removed"
      ]
    },
    {
      "cell_type": "code",
      "metadata": {
        "colab": {
          "base_uri": "https://localhost:8080/",
          "height": 35
        },
        "id": "XY7V-XUjundx",
        "outputId": "c91fff33-9e7e-4e88-d138-766372e26a87"
      },
      "source": [
        "' Monday'.lstrip()"
      ],
      "execution_count": 30,
      "outputs": [
        {
          "output_type": "execute_result",
          "data": {
            "application/vnd.google.colaboratory.intrinsic+json": {
              "type": "string"
            },
            "text/plain": [
              "'Monday'"
            ]
          },
          "metadata": {},
          "execution_count": 30
        }
      ]
    },
    {
      "cell_type": "markdown",
      "metadata": {
        "id": "DQLwDl1j0M6v"
      },
      "source": [
        "12.Complete the examples in the docstring and then write the body of the\n",
        "following"
      ]
    },
    {
      "cell_type": "code",
      "metadata": {
        "colab": {
          "base_uri": "https://localhost:8080/"
        },
        "id": "m_LcPMez0Obr",
        "outputId": "911bf9ba-9d71-4750-9735-fec772a228df"
      },
      "source": [
        "def total_occurrences(s1, s2, ch):\n",
        "  return s1.count(ch) + s2.count(ch)\n",
        "total_occurrences('color', 'yellow', 'l')"
      ],
      "execution_count": 31,
      "outputs": [
        {
          "output_type": "execute_result",
          "data": {
            "text/plain": [
              "3"
            ]
          },
          "metadata": {},
          "execution_count": 31
        }
      ]
    },
    {
      "cell_type": "code",
      "metadata": {
        "colab": {
          "base_uri": "https://localhost:8080/"
        },
        "id": "wZ8k1KAm0jhQ",
        "outputId": "97f0b325-ad25-4bbb-c665-6396f6855f81"
      },
      "source": [
        "def total_occurrences(s1, s2, ch):\n",
        "  return s1.count(ch) + s2.count(ch)\n",
        "total_occurrences('red', 'blue', 'l')"
      ],
      "execution_count": 34,
      "outputs": [
        {
          "output_type": "execute_result",
          "data": {
            "text/plain": [
              "1"
            ]
          },
          "metadata": {},
          "execution_count": 34
        }
      ]
    },
    {
      "cell_type": "code",
      "metadata": {
        "colab": {
          "base_uri": "https://localhost:8080/"
        },
        "id": "ZfLRYuRS0rz4",
        "outputId": "3718f948-73fc-402e-b5b3-c71170fb833a"
      },
      "source": [
        "def total_occurrences(s1, s2, ch):\n",
        "  return s1.count(ch) + s2.count(ch)\n",
        "total_occurrences('green', 'purple', 'b')"
      ],
      "execution_count": 35,
      "outputs": [
        {
          "output_type": "execute_result",
          "data": {
            "text/plain": [
              "0"
            ]
          },
          "metadata": {},
          "execution_count": 35
        }
      ]
    }
  ]
}