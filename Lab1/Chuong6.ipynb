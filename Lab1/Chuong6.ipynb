{
  "nbformat": 4,
  "nbformat_minor": 0,
  "metadata": {
    "colab": {
      "name": "Chuong6.ipynb",
      "provenance": [],
      "authorship_tag": "ABX9TyMhqVo5Q/qPdjUqo1gNPTD2",
      "include_colab_link": true
    },
    "kernelspec": {
      "name": "python3",
      "display_name": "Python 3"
    },
    "language_info": {
      "name": "python"
    }
  },
  "cells": [
    {
      "cell_type": "markdown",
      "metadata": {
        "id": "view-in-github",
        "colab_type": "text"
      },
      "source": [
        "<a href=\"https://colab.research.google.com/github/ThuHiennn/AdvancedPythonProgramming/blob/main/Lab1/Chuong6.ipynb\" target=\"_parent\"><img src=\"https://colab.research.google.com/assets/colab-badge.svg\" alt=\"Open In Colab\"/></a>"
      ]
    },
    {
      "cell_type": "markdown",
      "metadata": {
        "id": "dx0gC8y-q-nq"
      },
      "source": [
        "Bài 1"
      ]
    },
    {
      "cell_type": "markdown",
      "metadata": {
        "id": "QLZKOR1ThanK"
      },
      "source": [
        "1. Import module math, and use its functions to complete the following\n",
        "exercises. (You can call dir(math) to get a listing of the items in math.)"
      ]
    },
    {
      "cell_type": "markdown",
      "metadata": {
        "id": "Rp-UXw_fh13j"
      },
      "source": [
        "a. Write an expression that produces the floor of -2.8."
      ]
    },
    {
      "cell_type": "code",
      "metadata": {
        "colab": {
          "base_uri": "https://localhost:8080/"
        },
        "id": "cIxCPKkGg8Ia",
        "outputId": "70bb675f-8d64-440a-c899-9c3470e7e1c5"
      },
      "source": [
        "import math\n",
        "print(math.floor(-2.8))"
      ],
      "execution_count": 1,
      "outputs": [
        {
          "output_type": "stream",
          "name": "stdout",
          "text": [
            "-3\n"
          ]
        }
      ]
    },
    {
      "cell_type": "markdown",
      "metadata": {
        "id": "UoNPmrm2h30r"
      },
      "source": [
        "b. Write an expression that rounds the value of -4.3 and then produces\n",
        "the absolute value of that result"
      ]
    },
    {
      "cell_type": "code",
      "metadata": {
        "colab": {
          "base_uri": "https://localhost:8080/"
        },
        "id": "sqnrAQVohRGD",
        "outputId": "f2cdaa07-6c3a-4f3c-8483-44000cd5e778"
      },
      "source": [
        "print(abs(round(-4.3)))"
      ],
      "execution_count": 2,
      "outputs": [
        {
          "output_type": "stream",
          "name": "stdout",
          "text": [
            "4\n"
          ]
        }
      ]
    },
    {
      "cell_type": "markdown",
      "metadata": {
        "id": "_U7nDnvdh69D"
      },
      "source": [
        "c. Write an expression that produces the ceiling of the sine of 34.5"
      ]
    },
    {
      "cell_type": "code",
      "metadata": {
        "colab": {
          "base_uri": "https://localhost:8080/"
        },
        "id": "9p9Bwfq5hZkr",
        "outputId": "81d45138-133c-45b7-a6ed-0dc890d0c33e"
      },
      "source": [
        "print(math.ceil(math.sin(34.5)))"
      ],
      "execution_count": 3,
      "outputs": [
        {
          "output_type": "stream",
          "name": "stdout",
          "text": [
            "1\n"
          ]
        }
      ]
    },
    {
      "cell_type": "markdown",
      "metadata": {
        "id": "0AmAAj-VrA9H"
      },
      "source": [
        "Bài 2\n"
      ]
    },
    {
      "cell_type": "markdown",
      "metadata": {
        "id": "p76KeG7-iJi7"
      },
      "source": [
        "2. In the following exercises, you will work with Python’s calendar module:"
      ]
    },
    {
      "cell_type": "markdown",
      "metadata": {
        "id": "2FQ-kPVciOu4"
      },
      "source": [
        "a. Visit the Python documentation website at http://docs.python.org/release/\n",
        "3.6.0/py-modindex.html, and look at the documentation on module calendar\n",
        ".\n"
      ]
    },
    {
      "cell_type": "markdown",
      "metadata": {
        "id": "Uad9_mIji5yb"
      },
      "source": [
        " b. Import module calendar."
      ]
    },
    {
      "cell_type": "code",
      "metadata": {
        "id": "VlsQ4spxiUFv"
      },
      "source": [
        "import calendar\n",
        "\n"
      ],
      "execution_count": 4,
      "outputs": []
    },
    {
      "cell_type": "markdown",
      "metadata": {
        "id": "L0VTTVAyjFfK"
      },
      "source": [
        "c. Using function help, read the description of function isleap."
      ]
    },
    {
      "cell_type": "code",
      "metadata": {
        "colab": {
          "base_uri": "https://localhost:8080/"
        },
        "id": "ywCsbP57i8r8",
        "outputId": "1c821482-d6c3-44ac-953d-2cbd278debd3"
      },
      "source": [
        "help(calendar.isleap)"
      ],
      "execution_count": 5,
      "outputs": [
        {
          "output_type": "stream",
          "name": "stdout",
          "text": [
            "Help on function isleap in module calendar:\n",
            "\n",
            "isleap(year)\n",
            "    Return True for leap years, False for non-leap years.\n",
            "\n"
          ]
        }
      ]
    },
    {
      "cell_type": "markdown",
      "metadata": {
        "id": "NfS2hiiQirqZ"
      },
      "source": [
        "d. Use isleap to determine the next leap year."
      ]
    },
    {
      "cell_type": "code",
      "metadata": {
        "colab": {
          "base_uri": "https://localhost:8080/"
        },
        "id": "ziHLGpGbi8V6",
        "outputId": "6cf12f45-3305-4857-9f20-efe99387d1db"
      },
      "source": [
        "calendar.isleap(2021)"
      ],
      "execution_count": 6,
      "outputs": [
        {
          "output_type": "execute_result",
          "data": {
            "text/plain": [
              "False"
            ]
          },
          "metadata": {},
          "execution_count": 6
        }
      ]
    },
    {
      "cell_type": "markdown",
      "metadata": {
        "id": "_W-V73FUqIdS"
      },
      "source": [
        "e. Use dir to get a list of what calendar contains"
      ]
    },
    {
      "cell_type": "code",
      "metadata": {
        "colab": {
          "base_uri": "https://localhost:8080/"
        },
        "id": "Ne9uOsFbiusV",
        "outputId": "9cf1e72b-8b20-4a44-9f33-5510be8ba94d"
      },
      "source": [
        "dir(calendar)"
      ],
      "execution_count": 7,
      "outputs": [
        {
          "output_type": "execute_result",
          "data": {
            "text/plain": [
              "['Calendar',\n",
              " 'EPOCH',\n",
              " 'FRIDAY',\n",
              " 'February',\n",
              " 'HTMLCalendar',\n",
              " 'IllegalMonthError',\n",
              " 'IllegalWeekdayError',\n",
              " 'January',\n",
              " 'LocaleHTMLCalendar',\n",
              " 'LocaleTextCalendar',\n",
              " 'MONDAY',\n",
              " 'SATURDAY',\n",
              " 'SUNDAY',\n",
              " 'THURSDAY',\n",
              " 'TUESDAY',\n",
              " 'TextCalendar',\n",
              " 'WEDNESDAY',\n",
              " '_EPOCH_ORD',\n",
              " '__all__',\n",
              " '__builtins__',\n",
              " '__cached__',\n",
              " '__doc__',\n",
              " '__file__',\n",
              " '__loader__',\n",
              " '__name__',\n",
              " '__package__',\n",
              " '__spec__',\n",
              " '_colwidth',\n",
              " '_locale',\n",
              " '_localized_day',\n",
              " '_localized_month',\n",
              " '_spacing',\n",
              " 'c',\n",
              " 'calendar',\n",
              " 'datetime',\n",
              " 'day_abbr',\n",
              " 'day_name',\n",
              " 'different_locale',\n",
              " 'error',\n",
              " 'firstweekday',\n",
              " 'format',\n",
              " 'formatstring',\n",
              " 'isleap',\n",
              " 'leapdays',\n",
              " 'main',\n",
              " 'mdays',\n",
              " 'month',\n",
              " 'month_abbr',\n",
              " 'month_name',\n",
              " 'monthcalendar',\n",
              " 'monthlen',\n",
              " 'monthrange',\n",
              " 'nextmonth',\n",
              " 'prcal',\n",
              " 'prevmonth',\n",
              " 'prmonth',\n",
              " 'prweek',\n",
              " 'repeat',\n",
              " 'setfirstweekday',\n",
              " 'sys',\n",
              " 'timegm',\n",
              " 'week',\n",
              " 'weekday',\n",
              " 'weekheader']"
            ]
          },
          "metadata": {},
          "execution_count": 7
        }
      ]
    },
    {
      "cell_type": "markdown",
      "metadata": {
        "id": "UZbTy_NIqrxm"
      },
      "source": [
        "f. Find and use a function in module calendar to determine how many\n",
        "leap years there will be between the years 2000 and 2050, inclusive"
      ]
    },
    {
      "cell_type": "code",
      "metadata": {
        "colab": {
          "base_uri": "https://localhost:8080/"
        },
        "id": "vczGrwH0qLrC",
        "outputId": "d1f3e8f3-0afc-444b-9015-4670f6be088d"
      },
      "source": [
        "calendar.leapdays(2000, 2050)"
      ],
      "execution_count": 8,
      "outputs": [
        {
          "output_type": "execute_result",
          "data": {
            "text/plain": [
              "13"
            ]
          },
          "metadata": {},
          "execution_count": 8
        }
      ]
    },
    {
      "cell_type": "markdown",
      "metadata": {
        "id": "zd6dr-X3qu55"
      },
      "source": [
        "g. Find and use a function in module calendar to determine which day of\n",
        "the week July 29, 2016, will be."
      ]
    },
    {
      "cell_type": "code",
      "metadata": {
        "colab": {
          "base_uri": "https://localhost:8080/"
        },
        "id": "rfxIhWa7qygO",
        "outputId": "48255c95-e6d3-4edc-c103-98176bb92d92"
      },
      "source": [
        "calendar.weekday(2016, 7,29)"
      ],
      "execution_count": 9,
      "outputs": [
        {
          "output_type": "execute_result",
          "data": {
            "text/plain": [
              "4"
            ]
          },
          "metadata": {},
          "execution_count": 9
        }
      ]
    }
  ]
}